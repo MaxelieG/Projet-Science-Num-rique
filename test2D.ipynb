{
 "cells": [
  {
   "cell_type": "markdown",
   "metadata": {},
   "source": [
    "$T(x,y) = T_2 + \\frac{4(T_1 - T_2)}{\\pi} \\sum_{n=0}^{\\infty} \\frac{1}{2n+1} \\sin\\left(\\frac{(2n+1)\\pi x}{L_x}\\right) \\frac{\\sinh\\left(\\frac{(L_y-y)(2n+1)\\pi}{L_x}\\right)}{\\sinh\\left(\\frac{(2n+1)\\pi L_y}{L_x}\\right)}$"
   ]
  },
  {
   "cell_type": "code",
   "execution_count": null,
   "metadata": {
    "vscode": {
     "languageId": "plaintext"
    }
   },
   "outputs": [],
   "source": [
    "import numpy as np\n",
    "import matplotlib.pyplot as plt"
   ]
  },
  {
   "cell_type": "code",
   "execution_count": null,
   "metadata": {
    "vscode": {
     "languageId": "plaintext"
    }
   },
   "outputs": [],
   "source": [
    "### Physical parameters ###\n",
    "thermal_conductivity = 30  # (in W.m^-1.K^-1)\n",
    "density = 8000  # (in kg.m^-3)\n",
    "heat_capacity = 520  # (in J.kg^-1.K^-1)\n",
    "\n",
    "thermal_diffusivity = thermal_conductivity / (density * heat_capacity)  # (in m^2.s^-1)\n"
   ]
  },
  {
   "cell_type": "code",
   "execution_count": null,
   "metadata": {
    "vscode": {
     "languageId": "plaintext"
    }
   },
   "outputs": [],
   "source": [
    "### Domain and Discretization ###\n",
    "Lx = 0.1  # Length in x-direction (in meters)\n",
    "Ly = 0.1  # Length in y-direction (in meters)\n",
    "Nx = 50  # Number of grid points in x-direction\n",
    "Ny = 50  # Number of grid points in y-direction\n",
    "dx = Lx / Nx\n",
    "dy = Ly / Ny\n",
    "\n",
    "dt = 0.001  # Time step (in seconds)\n",
    "simulation_time = 0.1  # Total simulation time (in seconds)\n"
   ]
  },
  {
   "cell_type": "code",
   "execution_count": null,
   "metadata": {
    "vscode": {
     "languageId": "plaintext"
    }
   },
   "outputs": [],
   "source": [
    "# Stability criteria for ADI: Fourier number should remain small\n",
    "dx2 = dx * dx\n",
    "dy2 = dy * dy\n",
    "Fo_x = thermal_diffusivity * dt / dx2\n",
    "Fo_y = thermal_diffusivity * dt / dy2\n",
    "\n",
    "if Fo_x > 0.5 or Fo_y > 0.5:\n",
    "    raise ValueError(\"Time step too large for ADI stability.\")\n"
   ]
  },
  {
   "cell_type": "code",
   "execution_count": null,
   "metadata": {
    "vscode": {
     "languageId": "plaintext"
    }
   },
   "outputs": [],
   "source": [
    "### Initial and Boundary Conditions ###\n",
    "T_init = 80 + 273  # Initial temperature (in K)\n",
    "T_boundary = 20 + 273  # Boundary temperature (in K)\n",
    "\n",
    "# Initialize temperature field\n",
    "T = np.ones((Ny, Nx)) * T_init\n",
    "T[:, 0] = T_boundary  # Left boundary\n",
    "T[:, -1] = T_boundary  # Right boundary\n",
    "T[0, :] = T_boundary  # Bottom boundary\n",
    "T[-1, :] = T_boundary  # Top boundary"
   ]
  }
 ],
 "metadata": {
  "language_info": {
   "name": "python"
  }
 },
 "nbformat": 4,
 "nbformat_minor": 2
}
