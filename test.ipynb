{
 "cells": [
  {
   "cell_type": "markdown",
   "metadata": {},
   "source": [
    "$T(x,y) = T_2 + \\frac{4(T_1 - T_2)}{\\pi} \\sum_{n=0}^{\\infty} \\frac{1}{2n+1} \\sin\\left(\\frac{(2n+1)\\pi x}{L_x}\\right) \\frac{\\sinh\\left(\\frac{(L_y-y)(2n+1)\\pi}{L_x}\\right)}{\\sinh\\left(\\frac{(2n+1)\\pi L_y}{L_x}\\right)}$"
   ]
  }
 ],
 "metadata": {
  "language_info": {
   "name": "python"
  }
 },
 "nbformat": 4,
 "nbformat_minor": 2
}
